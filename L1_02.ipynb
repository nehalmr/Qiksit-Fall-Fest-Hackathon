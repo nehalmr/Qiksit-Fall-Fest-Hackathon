{
  "cells": [
    {
      "cell_type": "markdown",
      "source": [
        "# L1-02\n",
        "## NEHAL MAHENDRA RANE\n",
        "### Problem Statement: Create a true randomizer for card shuffling using quantum states."
      ],
      "metadata": {
        "id": "2DcqdjEbVtaE"
      }
    },
    {
      "cell_type": "code",
      "execution_count": 21,
      "metadata": {
        "id": "fMn3lwqvStPT"
      },
      "outputs": [],
      "source": [
        "# !pip install qiskit\n",
        "# !pip install numpy\n",
        "# !pip install matplotlib\n",
        "# !pip install --upgrade qiskit\n",
        "# !pip install qiskit-aer"
      ]
    },
    {
      "cell_type": "code",
      "execution_count": 22,
      "metadata": {
        "id": "fS5QBTF-StPT"
      },
      "outputs": [],
      "source": [
        "# Imports\n",
        "from qiskit import QuantumCircuit\n",
        "from qiskit import transpile\n",
        "from qiskit_aer import Aer\n",
        "from qiskit_aer import AerSimulator\n",
        "from qiskit.visualization import plot_histogram\n",
        "import numpy as np"
      ]
    },
    {
      "cell_type": "code",
      "source": [
        "# Function to create a quantum circuit for shuffling\n",
        "def quantum_card_shuffle(num_cards):\n",
        "    # Create a quantum circuit with num_cards qubits\n",
        "    qc = QuantumCircuit(num_cards)\n",
        "\n",
        "    # Apply Hadamard gates to create superposition\n",
        "    for i in range(num_cards):\n",
        "        qc.h(i)\n",
        "\n",
        "    # Apply controlled-NOT gates to entangle the qubits\n",
        "    for i in range(num_cards - 1):\n",
        "        qc.cx(i, i + 1)\n",
        "\n",
        "    # Measure the qubits\n",
        "    qc.measure_all()\n",
        "\n",
        "    return qc\n",
        "\n"
      ],
      "metadata": {
        "id": "qyNBHLHvSyEN"
      },
      "execution_count": 23,
      "outputs": []
    },
    {
      "cell_type": "code",
      "source": [
        "# Number of cards\n",
        "num_cards = 5\n",
        "qc = quantum_card_shuffle(num_cards)\n"
      ],
      "metadata": {
        "id": "6gonq7SpTGV_"
      },
      "execution_count": 24,
      "outputs": []
    },
    {
      "cell_type": "code",
      "source": [
        "# Simulate the circuit\n",
        "backend = Aer.get_backend('aer_simulator')\n",
        "transpiled_circuit = transpile(qc, backend)\n",
        "result = backend.run(transpiled_circuit).result()\n",
        "counts = result.get_counts()"
      ],
      "metadata": {
        "id": "DTj0QMBiTrL5"
      },
      "execution_count": 25,
      "outputs": []
    },
    {
      "cell_type": "code",
      "source": [
        "# Display the results\n",
        "print(\"Shuffled card states:\", counts)"
      ],
      "metadata": {
        "colab": {
          "base_uri": "https://localhost:8080/"
        },
        "id": "Ro4nStc2U5fU",
        "outputId": "92925fd0-e7a8-4751-e752-d56c1c19187b"
      },
      "execution_count": 26,
      "outputs": [
        {
          "output_type": "stream",
          "name": "stdout",
          "text": [
            "Shuffled card states: {'10101': 22, '00011': 33, '01101': 31, '11110': 38, '01011': 38, '00111': 34, '10010': 38, '11100': 22, '11010': 36, '01001': 34, '10001': 38, '00101': 28, '10110': 25, '10000': 30, '01010': 38, '11011': 39, '11111': 29, '11000': 34, '01100': 47, '01000': 27, '00001': 31, '00110': 25, '01110': 26, '11101': 38, '00000': 28, '11001': 33, '00100': 38, '10111': 22, '10100': 29, '10011': 34, '00010': 32, '01111': 27}\n"
          ]
        }
      ]
    },
    {
      "cell_type": "code",
      "source": [],
      "metadata": {
        "id": "Wb7UoqotVXmE"
      },
      "execution_count": null,
      "outputs": []
    }
  ],
  "metadata": {
    "kernelspec": {
      "display_name": "Python 3",
      "language": "python",
      "name": "python3"
    },
    "language_info": {
      "codemirror_mode": {
        "name": "ipython",
        "version": 3
      },
      "file_extension": ".py",
      "mimetype": "text/x-python",
      "name": "python",
      "nbconvert_exporter": "python",
      "pygments_lexer": "ipython3",
      "version": "3.10.11"
    },
    "colab": {
      "provenance": []
    }
  },
  "nbformat": 4,
  "nbformat_minor": 0
}